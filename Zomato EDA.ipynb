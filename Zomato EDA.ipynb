{
 "cells": [
  {
   "cell_type": "code",
   "execution_count": 129,
   "id": "e058f44c-6f71-4a6d-9e15-b1a726da8f47",
   "metadata": {},
   "outputs": [],
   "source": [
    "import pandas as pd\n",
    "import numpy as np\n",
    "import matplotlib as mp\n",
    "import matplotlib.pyplot as plt\n",
    "from datetime import datetime\n",
    "from statsmodels.tsa.seasonal import seasonal_decompose\n",
    "import seaborn as sns"
   ]
  },
  {
   "cell_type": "code",
   "execution_count": 2,
   "id": "5bbb6423-7eef-4b76-bdeb-f843394ed7a8",
   "metadata": {},
   "outputs": [],
   "source": [
    "df = pd.read_csv('XAUUSDDaily.csv', sep = '\\t')"
   ]
  },
  {
   "cell_type": "code",
   "execution_count": 3,
   "id": "477dc1df-d06a-455c-b969-6a9cad3ef8e4",
   "metadata": {},
   "outputs": [],
   "source": [
    "df.head();"
   ]
  },
  {
   "cell_type": "code",
   "execution_count": 4,
   "id": "5950b1c5-8423-4682-a0fa-16a8c849663a",
   "metadata": {},
   "outputs": [],
   "source": [
    "%%capture\n",
    "df.info()"
   ]
  },
  {
   "cell_type": "code",
   "execution_count": 5,
   "id": "292cdd90-deea-46d1-b99d-cc2c0f5ac918",
   "metadata": {},
   "outputs": [
    {
     "data": {
      "text/plain": [
       "Index(['Date ', ' Open ', ' High ', ' Low ', ' Close ', ' Volume'], dtype='object')"
      ]
     },
     "execution_count": 5,
     "metadata": {},
     "output_type": "execute_result"
    }
   ],
   "source": [
    "df.columns"
   ]
  },
  {
   "cell_type": "code",
   "execution_count": 6,
   "id": "5def9cb0-a30e-4810-9d35-45249225923a",
   "metadata": {},
   "outputs": [],
   "source": [
    "df.columns = df.columns.str.strip()"
   ]
  },
  {
   "cell_type": "code",
   "execution_count": 7,
   "id": "18d83548-b2b5-4233-8a52-40fb26f8a1ca",
   "metadata": {},
   "outputs": [
    {
     "data": {
      "text/plain": [
       "Index(['Date', 'Open', 'High', 'Low', 'Close', 'Volume'], dtype='object')"
      ]
     },
     "execution_count": 7,
     "metadata": {},
     "output_type": "execute_result"
    }
   ],
   "source": [
    "df.columns"
   ]
  },
  {
   "cell_type": "code",
   "execution_count": 8,
   "id": "6cc54636-071a-42c5-b30d-37e95488238b",
   "metadata": {},
   "outputs": [
    {
     "data": {
      "text/plain": [
       "Index(['Date', 'Open', 'High', 'Low', 'Close', 'Volume'], dtype='object')"
      ]
     },
     "execution_count": 8,
     "metadata": {},
     "output_type": "execute_result"
    }
   ],
   "source": [
    "df.columns"
   ]
  },
  {
   "cell_type": "code",
   "execution_count": 9,
   "id": "462f495e-d407-4314-8016-e5299afbdb40",
   "metadata": {},
   "outputs": [],
   "source": [
    "df['Date'] = pd.to_datetime(df['Date'])"
   ]
  },
  {
   "cell_type": "code",
   "execution_count": 10,
   "id": "e2ddd9a7-fe40-402a-a435-17d89358b340",
   "metadata": {},
   "outputs": [],
   "source": [
    "df=df.sort_values('Date')"
   ]
  },
  {
   "cell_type": "code",
   "execution_count": 11,
   "id": "4ce7bb5f-f10a-4cba-a528-83b8187c64ef",
   "metadata": {},
   "outputs": [],
   "source": [
    "df.head();"
   ]
  },
  {
   "cell_type": "code",
   "execution_count": 12,
   "id": "735dfdb1-c0c8-4e6a-b96f-d7c765c9bf23",
   "metadata": {},
   "outputs": [
    {
     "data": {
      "text/plain": [
       "Date      0\n",
       "Open      0\n",
       "High      0\n",
       "Low       0\n",
       "Close     0\n",
       "Volume    0\n",
       "dtype: int64"
      ]
     },
     "execution_count": 12,
     "metadata": {},
     "output_type": "execute_result"
    }
   ],
   "source": [
    "df.isnull().sum()"
   ]
  },
  {
   "cell_type": "code",
   "execution_count": 13,
   "id": "e5b05245-eb9b-4cd1-b5ee-604a9795cf70",
   "metadata": {},
   "outputs": [],
   "source": [
    "df.head();"
   ]
  },
  {
   "cell_type": "code",
   "execution_count": 14,
   "id": "12301d60-0baf-4ebd-8d1b-9aea6c81ddc4",
   "metadata": {},
   "outputs": [],
   "source": [
    "df.describe();\n"
   ]
  },
  {
   "cell_type": "code",
   "execution_count": 15,
   "id": "82ac8e7a-13fa-4ed4-b7b7-cd4c6b850974",
   "metadata": {},
   "outputs": [],
   "source": [
    "decomposition = seasonal_decompose(df['Open'], model='additive', period=365)"
   ]
  },
  {
   "cell_type": "code",
   "execution_count": 16,
   "id": "1e09ef25-9138-4d9e-b71c-8ad9fdc8cc49",
   "metadata": {},
   "outputs": [],
   "source": [
    "df1 = pd.read_csv('zomato.csv', encoding = 'latin-1')"
   ]
  },
  {
   "cell_type": "code",
   "execution_count": 17,
   "id": "2902c706-65a1-430f-88d3-c10ee06138ee",
   "metadata": {},
   "outputs": [],
   "source": [
    "df1.head();"
   ]
  },
  {
   "cell_type": "code",
   "execution_count": 18,
   "id": "c2e8ca65-88d2-4485-905f-9e2263391934",
   "metadata": {},
   "outputs": [],
   "source": [
    "df1.columns;"
   ]
  },
  {
   "cell_type": "code",
   "execution_count": 19,
   "id": "6c16a973-0de1-4c24-a3cc-6c8b68552d94",
   "metadata": {},
   "outputs": [],
   "source": [
    "%%capture\n",
    "df1.info();"
   ]
  },
  {
   "cell_type": "code",
   "execution_count": 20,
   "id": "f53870f3-f735-47d2-a319-86d844423f72",
   "metadata": {},
   "outputs": [],
   "source": [
    "df1.isnull().sum();"
   ]
  },
  {
   "cell_type": "code",
   "execution_count": 21,
   "id": "86403294-9981-4bdc-b2e4-c619b1373cd6",
   "metadata": {},
   "outputs": [
    {
     "data": {
      "text/plain": [
       "['Cuisines']"
      ]
     },
     "execution_count": 21,
     "metadata": {},
     "output_type": "execute_result"
    }
   ],
   "source": [
    "[features for features in df1.columns if df1[features].isnull().sum() > 0]"
   ]
  },
  {
   "cell_type": "code",
   "execution_count": 22,
   "id": "0ceb08b5-3777-4592-b8ff-5ef2dc2bcecd",
   "metadata": {},
   "outputs": [],
   "source": [
    "df=df1"
   ]
  },
  {
   "cell_type": "code",
   "execution_count": 23,
   "id": "49fe9adf-edc8-4847-9b9f-32a1be195411",
   "metadata": {},
   "outputs": [],
   "source": [
    "df.head();"
   ]
  },
  {
   "cell_type": "code",
   "execution_count": 24,
   "id": "d7efcb6b-d11d-4c12-987f-1233d043070f",
   "metadata": {},
   "outputs": [],
   "source": [
    "df.columns;"
   ]
  },
  {
   "cell_type": "code",
   "execution_count": 25,
   "id": "f57c0584-cbe8-4e8d-973e-39453a9b4c81",
   "metadata": {},
   "outputs": [],
   "source": [
    "[features for features in df.columns if df[features].isnull().sum() > 0];"
   ]
  },
  {
   "cell_type": "code",
   "execution_count": 26,
   "id": "fbba2853-59fd-467a-917e-50ee992b83c3",
   "metadata": {},
   "outputs": [],
   "source": [
    "df_country = pd.read_excel('Country-code.xlsx')\n",
    "df_country.head();"
   ]
  },
  {
   "cell_type": "code",
   "execution_count": 27,
   "id": "3191dd7f-3089-4fb9-811d-301804f51d02",
   "metadata": {},
   "outputs": [],
   "source": [
    "realdf = pd.merge(df,df_country, on='Country Code', how='left');"
   ]
  },
  {
   "cell_type": "code",
   "execution_count": 172,
   "id": "4dc7ee0f-7a4f-4f50-85ef-d61ca9d7ffcc",
   "metadata": {},
   "outputs": [
    {
     "data": {
      "text/plain": [
       "Index(['Restaurant ID', 'Restaurant Name', 'Country Code', 'City', 'Address',\n",
       "       'Locality', 'Locality Verbose', 'Longitude', 'Latitude', 'Cuisines',\n",
       "       'Average Cost for two', 'Currency', 'Has Table booking',\n",
       "       'Has Online delivery', 'Is delivering now', 'Switch to order menu',\n",
       "       'Price range', 'Aggregate rating', 'Rating color', 'Rating text',\n",
       "       'Votes', 'Country'],\n",
       "      dtype='object')"
      ]
     },
     "execution_count": 172,
     "metadata": {},
     "output_type": "execute_result"
    }
   ],
   "source": [
    "realdf.columns"
   ]
  },
  {
   "cell_type": "code",
   "execution_count": 29,
   "id": "f5d21d57-eb66-4d27-937e-63fe567edfd0",
   "metadata": {},
   "outputs": [],
   "source": [
    "countries = realdf.Country.value_counts().index"
   ]
  },
  {
   "cell_type": "code",
   "execution_count": 290,
   "id": "49083d53-f05e-43c7-9568-07ca5322014c",
   "metadata": {},
   "outputs": [],
   "source": [
    "country_value = realdf.Country.value_counts().values"
   ]
  },
  {
   "cell_type": "code",
   "execution_count": 292,
   "id": "f53d384b-6317-4ad7-aa47-a3a3b8dbe317",
   "metadata": {},
   "outputs": [
    {
     "data": {
      "text/plain": [
       "array([8652,  434,   80,   60,   60,   60,   40,   34,   24,   22,   21,\n",
       "         20,   20,   20,    4], dtype=int64)"
      ]
     },
     "execution_count": 292,
     "metadata": {},
     "output_type": "execute_result"
    }
   ],
   "source": [
    "country_value"
   ]
  },
  {
   "cell_type": "code",
   "execution_count": 336,
   "id": "9c653c09-fc8d-4670-b0c2-08d165517032",
   "metadata": {},
   "outputs": [
    {
     "data": {
      "text/plain": [
       "([<matplotlib.patches.Wedge at 0x1ec903a1ac0>,\n",
       "  <matplotlib.patches.Wedge at 0x1ec91a318e0>,\n",
       "  <matplotlib.patches.Wedge at 0x1ec91a60410>],\n",
       " [Text(-1.0829742700952103, 0.19278674827836725, 'India'),\n",
       "  Text(1.077281715838356, -0.22240527134123297, 'United States'),\n",
       "  Text(1.0995865153823035, -0.03015783794312073, 'United Kingdom')],\n",
       " [Text(-0.590713238233751, 0.10515640815183668, '94.4%'),\n",
       "  Text(0.5876082086391032, -0.12131196618612707, '4.7%'),\n",
       "  Text(0.5997744629358018, -0.01644972978715676, '0.9%')])"
      ]
     },
     "execution_count": 336,
     "metadata": {},
     "output_type": "execute_result"
    },
    {
     "data": {
      "image/png": "[encoded data removed]",
      "text/plain": [
       "<Figure size 1200x600 with 1 Axes>"
      ]
     },
     "metadata": {},
     "output_type": "display_data"
    }
   ],
   "source": [
    "plt.pie(country_value[:3],labels = countries[:3], autopct = '%1.1f%%')"
   ]
  },
  {
   "cell_type": "code",
   "execution_count": 32,
   "id": "bb7dd876-7bb9-4612-b150-0cca97e8a104",
   "metadata": {},
   "outputs": [],
   "source": [
    "realdf.dtypes;"
   ]
  },
  {
   "cell_type": "code",
   "execution_count": 33,
   "id": "b856c4b3-0f8a-43d0-9522-21e3f42e2c2e",
   "metadata": {},
   "outputs": [
    {
     "data": {
      "text/plain": [
       "Index(['Restaurant ID', 'Restaurant Name', 'Country Code', 'City', 'Address',\n",
       "       'Locality', 'Locality Verbose', 'Longitude', 'Latitude', 'Cuisines',\n",
       "       'Average Cost for two', 'Currency', 'Has Table booking',\n",
       "       'Has Online delivery', 'Is delivering now', 'Switch to order menu',\n",
       "       'Price range', 'Aggregate rating', 'Rating color', 'Rating text',\n",
       "       'Votes', 'Country'],\n",
       "      dtype='object')"
      ]
     },
     "execution_count": 33,
     "metadata": {},
     "output_type": "execute_result"
    }
   ],
   "source": [
    "realdf.columns"
   ]
  },
  {
   "cell_type": "code",
   "execution_count": 94,
   "id": "3c5efc89-2ad8-4c54-bb42-aad6c98afc61",
   "metadata": {},
   "outputs": [],
   "source": [
    "rating = realdf.groupby(['Aggregate rating','Rating color','Rating text']).size().reset_index().rename(columns = {0:'Rating Count'})\n"
   ]
  },
  {
   "cell_type": "code",
   "execution_count": 332,
   "id": "fda84261-0d21-428c-bfa6-39a671031ec9",
   "metadata": {},
   "outputs": [],
   "source": [
    "rating;"
   ]
  },
  {
   "cell_type": "code",
   "execution_count": 166,
   "id": "30ff81b3-d33d-416e-810b-2146c681635d",
   "metadata": {},
   "outputs": [
    {
     "data": {
      "text/plain": [
       "<Axes: xlabel='Aggregate rating', ylabel='Rating Count'>"
      ]
     },
     "execution_count": 166,
     "metadata": {},
     "output_type": "execute_result"
    },
    {
     "data": {
      "image/png": "[encoded data removed]",
      "text/plain": [
       "<Figure size 1200x600 with 1 Axes>"
      ]
     },
     "metadata": {},
     "output_type": "display_data"
    }
   ],
   "source": [
    "mp.rcParams['figure.figsize'] = (12,6)\n",
    "sns.barplot(x= 'Aggregate rating', y= 'Rating Count', data = rating, hue= 'Rating color', palette= ['Blue', 'Red', 'Orange', 'Yellow', 'Green', 'Green'])"
   ]
  },
  {
   "cell_type": "code",
   "execution_count": 177,
   "id": "b8508e03-a430-4f28-93e6-c1999c36cc68",
   "metadata": {},
   "outputs": [
    {
     "data": {
      "text/plain": [
       "Index(['Restaurant ID', 'Restaurant Name', 'Country Code', 'City', 'Address',\n",
       "       'Locality', 'Locality Verbose', 'Longitude', 'Latitude', 'Cuisines',\n",
       "       'Average Cost for two', 'Currency', 'Has Table booking',\n",
       "       'Has Online delivery', 'Is delivering now', 'Switch to order menu',\n",
       "       'Price range', 'Aggregate rating', 'Rating color', 'Rating text',\n",
       "       'Votes', 'Country'],\n",
       "      dtype='object')"
      ]
     },
     "execution_count": 177,
     "metadata": {},
     "output_type": "execute_result"
    }
   ],
   "source": [
    "realdf.columns"
   ]
  },
  {
   "cell_type": "code",
   "execution_count": 248,
   "id": "3260065a-f46c-49d4-9656-5027dfa0dbe4",
   "metadata": {},
   "outputs": [],
   "source": [
    "realdf.groupby(['Aggregate rating','Country']).size().reset_index().head(4);"
   ]
  },
  {
   "cell_type": "code",
   "execution_count": 252,
   "id": "163611c3-f4c3-42be-a718-91b84217866d",
   "metadata": {},
   "outputs": [],
   "source": [
    "realdf[realdf['Aggregate rating'] == 0].groupby('Country').size().reset_index();"
   ]
  },
  {
   "cell_type": "code",
   "execution_count": 264,
   "id": "3e522161-08f3-47ff-9236-385f662dbfcb",
   "metadata": {},
   "outputs": [],
   "source": [
    "realdf.groupby(['Currency','Country']).size().reset_index();"
   ]
  },
  {
   "cell_type": "code",
   "execution_count": 288,
   "id": "7506ef81-7f1b-4dba-9b86-3e2f6bc0e068",
   "metadata": {},
   "outputs": [],
   "source": [
    "realdf[realdf['Has Online delivery']=='Yes'].Country.value_counts();"
   ]
  },
  {
   "cell_type": "code",
   "execution_count": 316,
   "id": "847abd6d-dfac-46d3-af6e-a6052a2fddc9",
   "metadata": {},
   "outputs": [],
   "source": [
    "city = realdf['City'].value_counts().index"
   ]
  },
  {
   "cell_type": "code",
   "execution_count": 352,
   "id": "9f3b8cef-e6d0-430d-ad2d-173178a967fb",
   "metadata": {},
   "outputs": [],
   "source": [
    "city_count = realdf['City'].value_counts().values"
   ]
  },
  {
   "cell_type": "code",
   "execution_count": 368,
   "id": "8e9d0eb1-1632-4541-bb83-01d341f6fb6d",
   "metadata": {},
   "outputs": [
    {
     "data": {
      "image/png": "[encoded data removed]",
      "text/plain": [
       "<Figure size 1200x600 with 1 Axes>"
      ]
     },
     "metadata": {},
     "output_type": "display_data"
    }
   ],
   "source": [
    "plt.pie(city_count[:5], labels = city[:5], autopct= '%1.2f%%');"
   ]
  },
  {
   "cell_type": "code",
   "execution_count": 400,
   "id": "3acfbeff-e987-4cc4-bb29-360ac039a607",
   "metadata": {},
   "outputs": [],
   "source": [
    "##Find top 10 Cousines\n",
    "foodcount = realdf['Cuisines'].value_counts().values"
   ]
  },
  {
   "cell_type": "code",
   "execution_count": 406,
   "id": "57244fa0-af2e-4da4-be3c-b03052a5454f",
   "metadata": {},
   "outputs": [],
   "source": [
    "food = realdf['Cuisines'].value_counts().index"
   ]
  },
  {
   "cell_type": "code",
   "execution_count": 424,
   "id": "54a35b29-810a-4eea-a716-ccedf53efda3",
   "metadata": {},
   "outputs": [
    {
     "data": {
      "text/plain": [
       "([<matplotlib.patches.Wedge at 0x1ec980ffec0>,\n",
       "  <matplotlib.patches.Wedge at 0x1ec980fc1a0>,\n",
       "  <matplotlib.patches.Wedge at 0x1ec97cd4440>,\n",
       "  <matplotlib.patches.Wedge at 0x1ec97cd63c0>],\n",
       " [Text(0.22530318485741765, 1.0766793742303715, 'North Indian'),\n",
       "  Text(-1.0397945822187122, -0.35892509913436504, 'North Indian, Chinese'),\n",
       "  Text(0.02485361207687513, -1.0997191905058001, 'Chinese'),\n",
       "  Text(0.9567434703810609, -0.5428092960545208, 'Fast Food')],\n",
       " [Text(0.12289264628586416, 0.5872796586711116, '43.43%'),\n",
       "  Text(-0.5671606812102067, -0.19577732680056273, '23.71%'),\n",
       "  Text(0.013556515678295524, -0.5998468311849818, '16.43%'),\n",
       "  Text(0.5218600747533059, -0.2960777978479204, '16.43%')])"
      ]
     },
     "execution_count": 424,
     "metadata": {},
     "output_type": "execute_result"
    },
    {
     "data": {
      "image/png": "[encoded data removed]",
      "text/plain": [
       "<Figure size 1200x600 with 1 Axes>"
      ]
     },
     "metadata": {},
     "output_type": "display_data"
    }
   ],
   "source": [
    "plt.pie(foodcount[:4], labels = food[:4], autopct = '%1.2f%%')"
   ]
  },
  {
   "cell_type": "code",
   "execution_count": null,
   "id": "4453fedb-0ac2-4e87-b231-3ed79e5afb5a",
   "metadata": {},
   "outputs": [],
   "source": []
  },
  {
   "cell_type": "code",
   "execution_count": null,
   "id": "5be34b16-d4e2-4bff-845a-842280bf1121",
   "metadata": {},
   "outputs": [],
   "source": []
  }
 ],
 "metadata": {
  "kernelspec": {
   "display_name": "Python [conda env:base] *",
   "language": "python",
   "name": "conda-base-py"
  },
  "language_info": {
   "codemirror_mode": {
    "name": "ipython",
    "version": 3
   },
   "file_extension": ".py",
   "mimetype": "text/x-python",
   "name": "python",
   "nbconvert_exporter": "python",
   "pygments_lexer": "ipython3",
   "version": "3.12.7"
  }
 },
 "nbformat": 4,
 "nbformat_minor": 5
}
