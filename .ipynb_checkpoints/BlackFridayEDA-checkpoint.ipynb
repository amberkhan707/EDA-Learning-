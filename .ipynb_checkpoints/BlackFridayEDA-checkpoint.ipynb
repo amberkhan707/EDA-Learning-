{
 "cells": [
  {
   "cell_type": "code",
   "execution_count": 1,
   "id": "06ec10bd-1492-4bcf-bf2d-db4f1c28e4af",
   "metadata": {},
   "outputs": [],
   "source": [
    "import pandas as pd\n",
    "import numpy as np \n",
    "import matplotlib.pyplot as plt\n",
    "import seaborn as sns \n",
    "%matplotlib inline"
   ]
  },
  {
   "cell_type": "code",
   "execution_count": 2,
   "id": "89eeb932-cc47-441e-b39f-08dbad03c3c8",
   "metadata": {},
   "outputs": [],
   "source": [
    "testdf = pd.read_csv('BlackFriday_Test.csv')"
   ]
  },
  {
   "cell_type": "code",
   "execution_count": 3,
   "id": "2d36b374-f5cf-4c25-94f4-67b7a0023ccc",
   "metadata": {},
   "outputs": [],
   "source": [
    "traindf = pd.read_csv('BlackFriday_Train.csv')"
   ]
  },
  {
   "cell_type": "code",
   "execution_count": 4,
   "id": "a867978b-279c-4179-96da-ad948cfee3d7",
   "metadata": {},
   "outputs": [],
   "source": [
    "traindf.columns;"
   ]
  },
  {
   "cell_type": "code",
   "execution_count": 5,
   "id": "25eca5cb-6c4b-4136-b772-8987b3754c99",
   "metadata": {},
   "outputs": [],
   "source": [
    "testdf.columns;"
   ]
  },
  {
   "cell_type": "code",
   "execution_count": 6,
   "id": "677dcb1b-ac04-4897-8fc2-fa13982bcc21",
   "metadata": {},
   "outputs": [],
   "source": [
    "df = pd.merge(traindf,testdf,how='outer')"
   ]
  },
  {
   "cell_type": "code",
   "execution_count": 7,
   "id": "74600539-3423-4d0a-ae49-0df35bd5eec3",
   "metadata": {},
   "outputs": [],
   "source": [
    "df.columns;"
   ]
  },
  {
   "cell_type": "code",
   "execution_count": 8,
   "id": "7ac9e12c-ab04-4ae4-8b67-56a3ea70ccec",
   "metadata": {},
   "outputs": [],
   "source": [
    "df.drop(['User_ID'],axis=1, inplace = True)"
   ]
  },
  {
   "cell_type": "code",
   "execution_count": 9,
   "id": "88dc560d-d47a-4b2f-89c2-2457ab86d1ab",
   "metadata": {},
   "outputs": [
    {
     "data": {
      "text/plain": [
       "Index(['Product_ID', 'Gender', 'Age', 'Occupation', 'City_Category',\n",
       "       'Stay_In_Current_City_Years', 'Marital_Status', 'Product_Category_1',\n",
       "       'Product_Category_2', 'Product_Category_3', 'Purchase'],\n",
       "      dtype='object')"
      ]
     },
     "execution_count": 9,
     "metadata": {},
     "output_type": "execute_result"
    }
   ],
   "source": [
    "df.columns"
   ]
  },
  {
   "cell_type": "code",
   "execution_count": null,
   "id": "735dbaa3-f837-428f-8045-49e6172590e0",
   "metadata": {},
   "outputs": [],
   "source": []
  },
  {
   "cell_type": "code",
   "execution_count": 10,
   "id": "267470df-c2b8-42bc-88c6-04ea1440268e",
   "metadata": {},
   "outputs": [],
   "source": [
    "## handling Categorical Featur\n",
    "df['Gender']= df['Gender'].map({'F':0, 'M':1})"
   ]
  },
  {
   "cell_type": "code",
   "execution_count": 11,
   "id": "ca219ab9-96d7-46a5-b242-c0f9fdeb3d06",
   "metadata": {},
   "outputs": [
    {
     "data": {
      "text/plain": [
       "Age\n",
       "26-35    313015\n",
       "36-45    156724\n",
       "18-25    141953\n",
       "46-50     65278\n",
       "51-55     54784\n",
       "55+       30579\n",
       "0-17      21334\n",
       "Name: count, dtype: int64"
      ]
     },
     "execution_count": 11,
     "metadata": {},
     "output_type": "execute_result"
    }
   ],
   "source": [
    "df.Age.value_counts()"
   ]
  },
  {
   "cell_type": "code",
   "execution_count": 12,
   "id": "96b36287-af72-494a-8b7b-7e01a34dde7d",
   "metadata": {},
   "outputs": [],
   "source": [
    "df.Age = df.Age.map({'26-35':1,'36:45':2, '18-25':3, '46-50':4, '51-55':5, '55+':6, '0-17':7})"
   ]
  },
  {
   "cell_type": "code",
   "execution_count": 13,
   "id": "91f0568a-197b-44e0-a91b-7582fa8a72e5",
   "metadata": {},
   "outputs": [],
   "source": [
    "df.Age.value_counts();"
   ]
  },
  {
   "cell_type": "code",
   "execution_count": 34,
   "id": "a39d20d1-c0c7-46a7-b623-d57add29db70",
   "metadata": {},
   "outputs": [],
   "source": [
    "df.head();"
   ]
  },
  {
   "cell_type": "code",
   "execution_count": 42,
   "id": "9ee52b38-873e-4dd3-8e0c-7313ad5786b1",
   "metadata": {},
   "outputs": [],
   "source": [
    "citydf = pd.get_dummies(df['City_Category'],drop_first=True)"
   ]
  },
  {
   "cell_type": "code",
   "execution_count": 52,
   "id": "f21f97e5-9c7e-4e57-97ea-3afa7d36a21f",
   "metadata": {},
   "outputs": [
    {
     "data": {
      "text/html": [
       "<div>\n",
       "<style scoped>\n",
       "    .dataframe tbody tr th:only-of-type {\n",
       "        vertical-align: middle;\n",
       "    }\n",
       "\n",
       "    .dataframe tbody tr th {\n",
       "        vertical-align: top;\n",
       "    }\n",
       "\n",
       "    .dataframe thead th {\n",
       "        text-align: right;\n",
       "    }\n",
       "</style>\n",
       "<table border=\"1\" class=\"dataframe\">\n",
       "  <thead>\n",
       "    <tr style=\"text-align: right;\">\n",
       "      <th></th>\n",
       "      <th>B</th>\n",
       "      <th>C</th>\n",
       "    </tr>\n",
       "  </thead>\n",
       "  <tbody>\n",
       "    <tr>\n",
       "      <th>0</th>\n",
       "      <td>False</td>\n",
       "      <td>False</td>\n",
       "    </tr>\n",
       "    <tr>\n",
       "      <th>1</th>\n",
       "      <td>False</td>\n",
       "      <td>False</td>\n",
       "    </tr>\n",
       "    <tr>\n",
       "      <th>2</th>\n",
       "      <td>False</td>\n",
       "      <td>False</td>\n",
       "    </tr>\n",
       "    <tr>\n",
       "      <th>3</th>\n",
       "      <td>False</td>\n",
       "      <td>False</td>\n",
       "    </tr>\n",
       "    <tr>\n",
       "      <th>4</th>\n",
       "      <td>False</td>\n",
       "      <td>False</td>\n",
       "    </tr>\n",
       "  </tbody>\n",
       "</table>\n",
       "</div>"
      ],
      "text/plain": [
       "       B      C\n",
       "0  False  False\n",
       "1  False  False\n",
       "2  False  False\n",
       "3  False  False\n",
       "4  False  False"
      ]
     },
     "execution_count": 52,
     "metadata": {},
     "output_type": "execute_result"
    }
   ],
   "source": [
    "citydf.head()"
   ]
  },
  {
   "cell_type": "code",
   "execution_count": 54,
   "id": "fe29ebbc-ad62-4d1d-ab55-abe900107a5c",
   "metadata": {},
   "outputs": [],
   "source": [
    "df = pd.concat([df,citydf],axis=1)"
   ]
  },
  {
   "cell_type": "code",
   "execution_count": 56,
   "id": "9b4158c3-0cb6-4ad2-a224-84836763c24e",
   "metadata": {},
   "outputs": [
    {
     "data": {
      "text/html": [
       "<div>\n",
       "<style scoped>\n",
       "    .dataframe tbody tr th:only-of-type {\n",
       "        vertical-align: middle;\n",
       "    }\n",
       "\n",
       "    .dataframe tbody tr th {\n",
       "        vertical-align: top;\n",
       "    }\n",
       "\n",
       "    .dataframe thead th {\n",
       "        text-align: right;\n",
       "    }\n",
       "</style>\n",
       "<table border=\"1\" class=\"dataframe\">\n",
       "  <thead>\n",
       "    <tr style=\"text-align: right;\">\n",
       "      <th></th>\n",
       "      <th>Product_ID</th>\n",
       "      <th>Gender</th>\n",
       "      <th>Age</th>\n",
       "      <th>Occupation</th>\n",
       "      <th>City_Category</th>\n",
       "      <th>Stay_In_Current_City_Years</th>\n",
       "      <th>Marital_Status</th>\n",
       "      <th>Product_Category_1</th>\n",
       "      <th>Product_Category_2</th>\n",
       "      <th>Product_Category_3</th>\n",
       "      <th>Purchase</th>\n",
       "      <th>B</th>\n",
       "      <th>C</th>\n",
       "    </tr>\n",
       "  </thead>\n",
       "  <tbody>\n",
       "    <tr>\n",
       "      <th>0</th>\n",
       "      <td>P00000142</td>\n",
       "      <td>0</td>\n",
       "      <td>7.0</td>\n",
       "      <td>10</td>\n",
       "      <td>A</td>\n",
       "      <td>2</td>\n",
       "      <td>0</td>\n",
       "      <td>3</td>\n",
       "      <td>4.0</td>\n",
       "      <td>5.0</td>\n",
       "      <td>13650.0</td>\n",
       "      <td>False</td>\n",
       "      <td>False</td>\n",
       "    </tr>\n",
       "    <tr>\n",
       "      <th>1</th>\n",
       "      <td>P00004842</td>\n",
       "      <td>0</td>\n",
       "      <td>7.0</td>\n",
       "      <td>10</td>\n",
       "      <td>A</td>\n",
       "      <td>2</td>\n",
       "      <td>0</td>\n",
       "      <td>3</td>\n",
       "      <td>4.0</td>\n",
       "      <td>12.0</td>\n",
       "      <td>13645.0</td>\n",
       "      <td>False</td>\n",
       "      <td>False</td>\n",
       "    </tr>\n",
       "    <tr>\n",
       "      <th>2</th>\n",
       "      <td>P00025442</td>\n",
       "      <td>0</td>\n",
       "      <td>7.0</td>\n",
       "      <td>10</td>\n",
       "      <td>A</td>\n",
       "      <td>2</td>\n",
       "      <td>0</td>\n",
       "      <td>1</td>\n",
       "      <td>2.0</td>\n",
       "      <td>9.0</td>\n",
       "      <td>15416.0</td>\n",
       "      <td>False</td>\n",
       "      <td>False</td>\n",
       "    </tr>\n",
       "    <tr>\n",
       "      <th>3</th>\n",
       "      <td>P00051442</td>\n",
       "      <td>0</td>\n",
       "      <td>7.0</td>\n",
       "      <td>10</td>\n",
       "      <td>A</td>\n",
       "      <td>2</td>\n",
       "      <td>0</td>\n",
       "      <td>8</td>\n",
       "      <td>17.0</td>\n",
       "      <td>NaN</td>\n",
       "      <td>9938.0</td>\n",
       "      <td>False</td>\n",
       "      <td>False</td>\n",
       "    </tr>\n",
       "    <tr>\n",
       "      <th>4</th>\n",
       "      <td>P00051842</td>\n",
       "      <td>0</td>\n",
       "      <td>7.0</td>\n",
       "      <td>10</td>\n",
       "      <td>A</td>\n",
       "      <td>2</td>\n",
       "      <td>0</td>\n",
       "      <td>4</td>\n",
       "      <td>8.0</td>\n",
       "      <td>NaN</td>\n",
       "      <td>2849.0</td>\n",
       "      <td>False</td>\n",
       "      <td>False</td>\n",
       "    </tr>\n",
       "  </tbody>\n",
       "</table>\n",
       "</div>"
      ],
      "text/plain": [
       "  Product_ID  Gender  Age  Occupation City_Category  \\\n",
       "0  P00000142       0  7.0          10             A   \n",
       "1  P00004842       0  7.0          10             A   \n",
       "2  P00025442       0  7.0          10             A   \n",
       "3  P00051442       0  7.0          10             A   \n",
       "4  P00051842       0  7.0          10             A   \n",
       "\n",
       "  Stay_In_Current_City_Years  Marital_Status  Product_Category_1  \\\n",
       "0                          2               0                   3   \n",
       "1                          2               0                   3   \n",
       "2                          2               0                   1   \n",
       "3                          2               0                   8   \n",
       "4                          2               0                   4   \n",
       "\n",
       "   Product_Category_2  Product_Category_3  Purchase      B      C  \n",
       "0                 4.0                 5.0   13650.0  False  False  \n",
       "1                 4.0                12.0   13645.0  False  False  \n",
       "2                 2.0                 9.0   15416.0  False  False  \n",
       "3                17.0                 NaN    9938.0  False  False  \n",
       "4                 8.0                 NaN    2849.0  False  False  "
      ]
     },
     "execution_count": 56,
     "metadata": {},
     "output_type": "execute_result"
    }
   ],
   "source": [
    "df.head()"
   ]
  },
  {
   "cell_type": "code",
   "execution_count": 62,
   "id": "74a23a01-7557-434f-bcd8-8673b0444c5c",
   "metadata": {},
   "outputs": [],
   "source": [
    "df.isnull().sum();"
   ]
  },
  {
   "cell_type": "code",
   "execution_count": null,
   "id": "9bd36353-ca21-4bf4-9c01-052e25f7a914",
   "metadata": {},
   "outputs": [],
   "source": [
    "## Focus on replacing missing values \n",
    "df.Age.unique();"
   ]
  },
  {
   "cell_type": "code",
   "execution_count": 66,
   "id": "51d4f9c8-cd06-464d-906e-9cdb283167ed",
   "metadata": {},
   "outputs": [],
   "source": [
    "df.Age.value_counts();"
   ]
  },
  {
   "cell_type": "code",
   "execution_count": 68,
   "id": "94572165-ebf8-47ba-932c-570ad958ead9",
   "metadata": {},
   "outputs": [],
   "source": [
    "x = df.Age.mode()[0]"
   ]
  },
  {
   "cell_type": "code",
   "execution_count": 70,
   "id": "2a791a30-a877-4050-bd33-69212998c838",
   "metadata": {},
   "outputs": [],
   "source": [
    "df.Age = df.Age.fillna(x)"
   ]
  },
  {
   "cell_type": "code",
   "execution_count": 72,
   "id": "0f0152e7-f30e-45da-a834-47040227ed5a",
   "metadata": {},
   "outputs": [],
   "source": [
    "df.isnull().sum();"
   ]
  },
  {
   "cell_type": "code",
   "execution_count": 74,
   "id": "be9d6a0f-2c80-4ac0-a74a-5725cb327ffd",
   "metadata": {},
   "outputs": [
    {
     "data": {
      "text/plain": [
       "array([ 4.,  2., 17.,  8., nan,  5., 14., 15.,  3.,  6.,  9., 16., 13.,\n",
       "       11., 18., 12., 10.,  7.])"
      ]
     },
     "execution_count": 74,
     "metadata": {},
     "output_type": "execute_result"
    }
   ],
   "source": [
    "df.Product_Category_2.unique()"
   ]
  },
  {
   "cell_type": "code",
   "execution_count": 76,
   "id": "3af3fb2c-fb65-47a0-81eb-4322b2e317d7",
   "metadata": {},
   "outputs": [],
   "source": [
    "df.Product_Category_2.value_counts();"
   ]
  },
  {
   "cell_type": "code",
   "execution_count": 78,
   "id": "ad42344a-4384-491c-9816-06a1a37b6329",
   "metadata": {},
   "outputs": [],
   "source": [
    "y = df.Product_Category_2.mode()[0]"
   ]
  },
  {
   "cell_type": "code",
   "execution_count": 80,
   "id": "e67174bf-1a30-4e20-811d-8594824b6a46",
   "metadata": {},
   "outputs": [
    {
     "data": {
      "text/plain": [
       "8.0"
      ]
     },
     "execution_count": 80,
     "metadata": {},
     "output_type": "execute_result"
    }
   ],
   "source": [
    "y"
   ]
  },
  {
   "cell_type": "code",
   "execution_count": 82,
   "id": "d113f798-f69c-427a-adab-6b9cb5fda804",
   "metadata": {},
   "outputs": [],
   "source": [
    "df.Product_Category_2 = df.Product_Category_2.fillna(y)"
   ]
  },
  {
   "cell_type": "code",
   "execution_count": 84,
   "id": "73edcbd4-cf90-4ccf-a0dc-2ad0913fa977",
   "metadata": {},
   "outputs": [],
   "source": [
    "df.isnull().sum();"
   ]
  },
  {
   "cell_type": "code",
   "execution_count": 86,
   "id": "eeab3769-a38c-4b29-8c4b-97ec19486045",
   "metadata": {},
   "outputs": [
    {
     "data": {
      "text/plain": [
       "16.0"
      ]
     },
     "execution_count": 86,
     "metadata": {},
     "output_type": "execute_result"
    }
   ],
   "source": [
    "df.Product_Category_3.mode()[0]"
   ]
  },
  {
   "cell_type": "code",
   "execution_count": 88,
   "id": "3e9343eb-06fd-47a3-b255-7636f47e76d3",
   "metadata": {},
   "outputs": [],
   "source": [
    "df.Product_Category_3 = df.Product_Category_3.fillna(df.Product_Category_3.mode()[0])"
   ]
  },
  {
   "cell_type": "code",
   "execution_count": 90,
   "id": "c73cb944-229a-4835-9b0a-47721cc52710",
   "metadata": {},
   "outputs": [
    {
     "data": {
      "text/plain": [
       "Index(['Product_ID', 'Gender', 'Age', 'Occupation', 'City_Category',\n",
       "       'Stay_In_Current_City_Years', 'Marital_Status', 'Product_Category_1',\n",
       "       'Product_Category_2', 'Product_Category_3', 'Purchase', 'B', 'C'],\n",
       "      dtype='object')"
      ]
     },
     "execution_count": 90,
     "metadata": {},
     "output_type": "execute_result"
    }
   ],
   "source": [
    "df.columns"
   ]
  },
  {
   "cell_type": "code",
   "execution_count": 92,
   "id": "f77c8fc6-b02b-4050-8063-60bb814b408f",
   "metadata": {},
   "outputs": [
    {
     "data": {
      "text/plain": [
       "array(['2', '4+', '3', '1', '0'], dtype=object)"
      ]
     },
     "execution_count": 92,
     "metadata": {},
     "output_type": "execute_result"
    }
   ],
   "source": [
    "df.Stay_In_Current_City_Years.unique()"
   ]
  },
  {
   "cell_type": "code",
   "execution_count": 94,
   "id": "1f1a8482-bf1e-44eb-bf38-81d46502d9aa",
   "metadata": {},
   "outputs": [],
   "source": [
    "df.Stay_In_Current_City_Years = df.Stay_In_Current_City_Years.str.replace('4+','4')"
   ]
  },
  {
   "cell_type": "code",
   "execution_count": 104,
   "id": "33c48f9c-ec74-42f6-bd73-96224d0bc1dd",
   "metadata": {},
   "outputs": [],
   "source": [
    "df.Stay_In_Current_City_Years = df.Stay_In_Current_City_Years.astype(int)"
   ]
  },
  {
   "cell_type": "code",
   "execution_count": 102,
   "id": "747cb6e6-9d4b-4bf4-a752-a0218bd8a3ae",
   "metadata": {},
   "outputs": [],
   "source": [
    "df.B = df.B.astype(int)"
   ]
  },
  {
   "cell_type": "code",
   "execution_count": 100,
   "id": "5cd47e29-49ad-4843-882d-677d85ceea7c",
   "metadata": {},
   "outputs": [],
   "source": [
    "df.C = df.C.astype(int)"
   ]
  },
  {
   "cell_type": "code",
   "execution_count": 98,
   "id": "9e50339a-9445-48c8-8e4d-1c82413e8d99",
   "metadata": {},
   "outputs": [],
   "source": [
    "df.drop('City_Category', axis=1, inplace = True)  "
   ]
  },
  {
   "cell_type": "markdown",
   "id": "d3ad3924-c4b5-43d1-b312-8e69aff01020",
   "metadata": {},
   "source": [
    "##Visualization"
   ]
  },
  {
   "cell_type": "code",
   "execution_count": 149,
   "id": "2a95fcf0-ba70-4ed3-90b7-6be626484c9f",
   "metadata": {},
   "outputs": [],
   "source": [
    "%%capture\n",
    "sns.barplot(x='Age', y='Purchase', hue='Gender', data=df);\n",
    "plt.show();"
   ]
  },
  {
   "cell_type": "code",
   "execution_count": 144,
   "id": "0297ab0b-782f-4c54-bcf6-e05752aaf26b",
   "metadata": {},
   "outputs": [],
   "source": [
    "##conclusion - Purchasing of men over women is high :"
   ]
  },
  {
   "cell_type": "code",
   "execution_count": 163,
   "id": "847e3792-081f-4bb4-9cd9-f4706273adff",
   "metadata": {},
   "outputs": [
    {
     "data": {
      "image/png": "[encoded data removed]",
      "text/plain": [
       "<Figure size 640x480 with 1 Axes>"
      ]
     },
     "metadata": {},
     "output_type": "display_data"
    }
   ],
   "source": [
    "sns.barplot(x = 'Product_Category_1', y = 'Purchase', hue= 'Gender' ,data = df)\n",
    "plt.show()"
   ]
  },
  {
   "cell_type": "markdown",
   "id": "e0e69596-3013-403f-8ae9-f1cca4ad90cb",
   "metadata": {},
   "source": [
    "##Feature Scaling"
   ]
  },
  {
   "cell_type": "code",
   "execution_count": 179,
   "id": "5eb2807d-bb24-43eb-ad3b-9418d6bd9b63",
   "metadata": {},
   "outputs": [],
   "source": [
    "testdf = df[df['Purchase'].isnull()]"
   ]
  },
  {
   "cell_type": "code",
   "execution_count": 187,
   "id": "140ead24-2f62-4a35-a8b7-721b2b0ade0e",
   "metadata": {},
   "outputs": [],
   "source": [
    "traindf = df[~df.Purchase.isnull()]"
   ]
  },
  {
   "cell_type": "code",
   "execution_count": 193,
   "id": "55f2325b-3188-4428-9f4f-1c387519ca64",
   "metadata": {},
   "outputs": [],
   "source": [
    "testdf = testdf.drop('Purchase', axis =1 )"
   ]
  },
  {
   "cell_type": "code",
   "execution_count": 206,
   "id": "1c99c234-bd14-4f70-9116-4f4e45b11b8d",
   "metadata": {},
   "outputs": [
    {
     "data": {
      "text/plain": [
       "Index(['Product_ID', 'Gender', 'Age', 'Occupation',\n",
       "       'Stay_In_Current_City_Years', 'Marital_Status', 'Product_Category_1',\n",
       "       'Product_Category_2', 'Product_Category_3', 'Purchase', 'B', 'C'],\n",
       "      dtype='object')"
      ]
     },
     "execution_count": 206,
     "metadata": {},
     "output_type": "execute_result"
    }
   ],
   "source": [
    "df.columns"
   ]
  },
  {
   "cell_type": "code",
   "execution_count": null,
   "id": "80672ce7-a378-42ad-a8cb-ee09a67257e2",
   "metadata": {},
   "outputs": [],
   "source": []
  },
  {
   "cell_type": "code",
   "execution_count": null,
   "id": "19032979-976e-4968-a97e-2ea1217454ed",
   "metadata": {},
   "outputs": [],
   "source": []
  }
 ],
 "metadata": {
  "kernelspec": {
   "display_name": "Python [conda env:base] *",
   "language": "python",
   "name": "conda-base-py"
  },
  "language_info": {
   "codemirror_mode": {
    "name": "ipython",
    "version": 3
   },
   "file_extension": ".py",
   "mimetype": "text/x-python",
   "name": "python",
   "nbconvert_exporter": "python",
   "pygments_lexer": "ipython3",
   "version": "3.12.7"
  }
 },
 "nbformat": 4,
 "nbformat_minor": 5
}
