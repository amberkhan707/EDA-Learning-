{
 "cells": [
  {
   "cell_type": "code",
   "execution_count": 1,
   "id": "e058f44c-6f71-4a6d-9e15-b1a726da8f47",
   "metadata": {},
   "outputs": [],
   "source": [
    "import pandas as pd\n",
    "import numpy as np\n",
    "import matplotlib as plt"
   ]
  },
  {
   "cell_type": "code",
   "execution_count": 20,
   "id": "5bbb6423-7eef-4b76-bdeb-f843394ed7a8",
   "metadata": {},
   "outputs": [],
   "source": [
    "df = pd.read_csv('XAUUSDDaily.csv')"
   ]
  },
  {
   "cell_type": "code",
   "execution_count": 22,
   "id": "477dc1df-d06a-455c-b969-6a9cad3ef8e4",
   "metadata": {},
   "outputs": [
    {
     "data": {
      "text/html": [
       "<div>\n",
       "<style scoped>\n",
       "    .dataframe tbody tr th:only-of-type {\n",
       "        vertical-align: middle;\n",
       "    }\n",
       "\n",
       "    .dataframe tbody tr th {\n",
       "        vertical-align: top;\n",
       "    }\n",
       "\n",
       "    .dataframe thead th {\n",
       "        text-align: right;\n",
       "    }\n",
       "</style>\n",
       "<table border=\"1\" class=\"dataframe\">\n",
       "  <thead>\n",
       "    <tr style=\"text-align: right;\">\n",
       "      <th></th>\n",
       "      <th>Date \\t Open \\t High \\t Low \\t Close \\t Volume</th>\n",
       "    </tr>\n",
       "  </thead>\n",
       "  <tbody>\n",
       "    <tr>\n",
       "      <th>0</th>\n",
       "      <td>2004.06.11\\t384\\t384.8\\t382.8\\t384.1\\t303</td>\n",
       "    </tr>\n",
       "    <tr>\n",
       "      <th>1</th>\n",
       "      <td>2004.06.14\\t384.3\\t385.8\\t381.8\\t382.8\\t1954</td>\n",
       "    </tr>\n",
       "    <tr>\n",
       "      <th>2</th>\n",
       "      <td>2004.06.15\\t382.8\\t388.8\\t381.1\\t388.6\\t1995</td>\n",
       "    </tr>\n",
       "    <tr>\n",
       "      <th>3</th>\n",
       "      <td>2004.06.16\\t387.1\\t389.8\\t382.6\\t383.8\\t2106</td>\n",
       "    </tr>\n",
       "    <tr>\n",
       "      <th>4</th>\n",
       "      <td>2004.06.17\\t383.6\\t389.3\\t383\\t387.6\\t1638</td>\n",
       "    </tr>\n",
       "  </tbody>\n",
       "</table>\n",
       "</div>"
      ],
      "text/plain": [
       "  Date \\t Open \\t High \\t Low \\t Close \\t Volume\n",
       "0      2004.06.11\\t384\\t384.8\\t382.8\\t384.1\\t303\n",
       "1   2004.06.14\\t384.3\\t385.8\\t381.8\\t382.8\\t1954\n",
       "2   2004.06.15\\t382.8\\t388.8\\t381.1\\t388.6\\t1995\n",
       "3   2004.06.16\\t387.1\\t389.8\\t382.6\\t383.8\\t2106\n",
       "4     2004.06.17\\t383.6\\t389.3\\t383\\t387.6\\t1638"
      ]
     },
     "execution_count": 22,
     "metadata": {},
     "output_type": "execute_result"
    }
   ],
   "source": [
    "df.head()"
   ]
  },
  {
   "cell_type": "code",
   "execution_count": null,
   "id": "5950b1c5-8423-4682-a0fa-16a8c849663a",
   "metadata": {},
   "outputs": [],
   "source": []
  },
  {
   "cell_type": "code",
   "execution_count": null,
   "id": "292cdd90-deea-46d1-b99d-cc2c0f5ac918",
   "metadata": {},
   "outputs": [],
   "source": []
  }
 ],
 "metadata": {
  "kernelspec": {
   "display_name": "Python [conda env:base] *",
   "language": "python",
   "name": "conda-base-py"
  },
  "language_info": {
   "codemirror_mode": {
    "name": "ipython",
    "version": 3
   },
   "file_extension": ".py",
   "mimetype": "text/x-python",
   "name": "python",
   "nbconvert_exporter": "python",
   "pygments_lexer": "ipython3",
   "version": "3.12.7"
  }
 },
 "nbformat": 4,
 "nbformat_minor": 5
}
