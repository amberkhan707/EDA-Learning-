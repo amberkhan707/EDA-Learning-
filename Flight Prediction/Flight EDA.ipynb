{
 "cells": [
  {
   "cell_type": "markdown",
   "id": "c7261a42-735f-4f77-a256-13bc398df1d8",
   "metadata": {},
   "source": [
    "Flight Data EDA and Featur engineering ::"
   ]
  },
  {
   "cell_type": "markdown",
   "id": "55ffb39b-a456-4af0-a15e-fa50060af21a",
   "metadata": {},
   "source": [
    "Importing Library -"
   ]
  },
  {
   "cell_type": "code",
   "execution_count": 3,
   "id": "19f477e6-2d4b-4d6f-9161-045ad4a85ea3",
   "metadata": {},
   "outputs": [],
   "source": [
    "import pandas as pd \n",
    "import numpy as np \n",
    "import matplotlib.pyplot as plt\n",
    "import seaborn as sns \n",
    "%matplotlib inline"
   ]
  },
  {
   "cell_type": "code",
   "execution_count": 4,
   "id": "93cf6e6f-65e3-4cad-94dd-dde2ea896635",
   "metadata": {},
   "outputs": [],
   "source": [
    "train = pd.read_excel('train.xlsx')"
   ]
  },
  {
   "cell_type": "code",
   "execution_count": 5,
   "id": "8682c6bc-918c-4add-b6b2-b458158b6a22",
   "metadata": {},
   "outputs": [],
   "source": [
    "test = pd.read_excel('test.xlsx')"
   ]
  },
  {
   "cell_type": "code",
   "execution_count": 6,
   "id": "929a7528-a017-4ce2-aeff-9bd5be9c99ae",
   "metadata": {},
   "outputs": [],
   "source": [
    "df = pd.merge(train,test, how = 'outer')"
   ]
  },
  {
   "cell_type": "code",
   "execution_count": 7,
   "id": "2aff87dd-feb1-4ebe-a24c-e9a8ed8d4aac",
   "metadata": {},
   "outputs": [
    {
     "data": {
      "text/plain": [
       "(13151, 11)"
      ]
     },
     "execution_count": 7,
     "metadata": {},
     "output_type": "execute_result"
    }
   ],
   "source": [
    "df.shape"
   ]
  },
  {
   "cell_type": "code",
   "execution_count": 8,
   "id": "f66fcc96-2b9c-4926-8791-05b4faf76eb4",
   "metadata": {},
   "outputs": [
    {
     "data": {
      "text/plain": [
       "Index(['Airline', 'Date_of_Journey', 'Source', 'Destination', 'Route',\n",
       "       'Dep_Time', 'Arrival_Time', 'Duration', 'Total_Stops',\n",
       "       'Additional_Info', 'Price'],\n",
       "      dtype='object')"
      ]
     },
     "execution_count": 8,
     "metadata": {},
     "output_type": "execute_result"
    }
   ],
   "source": [
    "df.columns"
   ]
  },
  {
   "cell_type": "code",
   "execution_count": 9,
   "id": "4b26c9d3-b1e3-4f7c-bfd8-9102d27c333c",
   "metadata": {},
   "outputs": [],
   "source": [
    "df.head();"
   ]
  },
  {
   "cell_type": "code",
   "execution_count": 10,
   "id": "0f31ba2d-2602-4e51-8487-293ab479d8ad",
   "metadata": {},
   "outputs": [],
   "source": [
    "%%capture\n",
    "df.info()"
   ]
  },
  {
   "cell_type": "markdown",
   "id": "d3d2001c-316b-43ad-b841-1421ddbfb8e9",
   "metadata": {},
   "source": [
    "Feature Engineering :"
   ]
  },
  {
   "cell_type": "markdown",
   "id": "955f14d2-94ea-4e34-896d-6cbe69e6b48c",
   "metadata": {},
   "source": [
    "1. Date of  journey "
   ]
  },
  {
   "cell_type": "code",
   "execution_count": 13,
   "id": "8565f2b4-abb6-49e6-97d5-bd3084482af2",
   "metadata": {},
   "outputs": [],
   "source": [
    "df['month'] = df['Date_of_Journey'].str.split('/').str[1]"
   ]
  },
  {
   "cell_type": "code",
   "execution_count": 14,
   "id": "38cdf417-9161-4b26-acb8-49a54fa8cf47",
   "metadata": {},
   "outputs": [],
   "source": [
    "df['date'] = df['Date_of_Journey'].str.split('/').str[0]"
   ]
  },
  {
   "cell_type": "code",
   "execution_count": 15,
   "id": "455a86e1-4590-471c-82cf-943c04a79576",
   "metadata": {},
   "outputs": [],
   "source": [
    "df['year'] = df['Date_of_Journey'].str.split('/').str[2]"
   ]
  },
  {
   "cell_type": "code",
   "execution_count": 16,
   "id": "a576687c-c63d-4474-9848-0045337d1e22",
   "metadata": {},
   "outputs": [],
   "source": [
    "df['date'] = df.date.astype(int)\n",
    "df['month'] = df.month.astype(int)\n",
    "df['year'] = df.year.astype(int)"
   ]
  },
  {
   "cell_type": "code",
   "execution_count": 17,
   "id": "db339f22-2346-474a-b42f-aca3f6b11461",
   "metadata": {},
   "outputs": [],
   "source": [
    "df.drop('Date_of_Journey',axis = 1, inplace = True)"
   ]
  },
  {
   "cell_type": "markdown",
   "id": "4d274877-a4dd-44fe-bce8-5b0e397aeb16",
   "metadata": {},
   "source": [
    "2. Arrival_Time"
   ]
  },
  {
   "cell_type": "code",
   "execution_count": 19,
   "id": "bbfc87ac-e0ff-4e96-89eb-766aca7adc11",
   "metadata": {},
   "outputs": [],
   "source": [
    "df['Arrival_Time'] = df.Arrival_Time.apply(lambda x:x.split(' ')[0])"
   ]
  },
  {
   "cell_type": "code",
   "execution_count": 20,
   "id": "2f2b3bf0-c9b0-46cb-8bf7-0fd2ff952137",
   "metadata": {},
   "outputs": [],
   "source": [
    "df['Arrival_Hour'] = df.Arrival_Time.apply(lambda x:x.split(':')[0])"
   ]
  },
  {
   "cell_type": "code",
   "execution_count": 21,
   "id": "1824790e-13e5-4367-9611-fec62d3893b8",
   "metadata": {},
   "outputs": [],
   "source": [
    "df['Arrival_Min'] = df.Arrival_Time.apply(lambda x:x.split(':')[1])"
   ]
  },
  {
   "cell_type": "code",
   "execution_count": 22,
   "id": "0780d858-daae-48ca-98e8-5a8ff52415b1",
   "metadata": {},
   "outputs": [],
   "source": [
    "df['Arrival_Hour']=df.Arrival_Hour.astype(int);\n",
    "df['Arrival_Min']=df.Arrival_Min.astype(int);"
   ]
  },
  {
   "cell_type": "code",
   "execution_count": 23,
   "id": "b45fab18-910b-4dd1-8f26-b46aba746756",
   "metadata": {},
   "outputs": [],
   "source": [
    "df.drop('Arrival_Time',axis =1, inplace = True)"
   ]
  },
  {
   "cell_type": "markdown",
   "id": "62ea3f25-d330-4faa-bd82-e057135446b9",
   "metadata": {},
   "source": [
    "3. Dep_Time"
   ]
  },
  {
   "cell_type": "code",
   "execution_count": 25,
   "id": "e755d8c7-31d6-4832-b43f-a8b5bf738869",
   "metadata": {},
   "outputs": [],
   "source": [
    "df['Dep_Hour'] = df.Dep_Time.apply(lambda x:x.split(':')[0])"
   ]
  },
  {
   "cell_type": "code",
   "execution_count": 26,
   "id": "89db7ac3-02e9-429a-ab34-493c5dd41f43",
   "metadata": {},
   "outputs": [],
   "source": [
    "df['Dep_Min'] = df.Dep_Time.apply(lambda x:x.split(':')[1])"
   ]
  },
  {
   "cell_type": "code",
   "execution_count": 27,
   "id": "df69f6ed-9fa6-4d2d-aa86-c331e3938144",
   "metadata": {},
   "outputs": [],
   "source": [
    "df.drop('Dep_Time',axis =1 , inplace =True)"
   ]
  },
  {
   "cell_type": "code",
   "execution_count": 28,
   "id": "d6bb9867-7a60-452d-bf7d-8acea32060d5",
   "metadata": {},
   "outputs": [],
   "source": [
    "df['Dep_Hour']=df.Arrival_Hour.astype(int);\n",
    "df['Dep_Min']=df.Arrival_Min.astype(int);"
   ]
  },
  {
   "cell_type": "markdown",
   "id": "13a6ef9d-96b5-4f5c-8cb7-6a1a0bcee0f3",
   "metadata": {},
   "source": [
    "4. Route and Total_Stops"
   ]
  },
  {
   "cell_type": "code",
   "execution_count": 30,
   "id": "872e77d8-1a57-40e6-857e-ae1272738014",
   "metadata": {},
   "outputs": [],
   "source": [
    "df.drop('Route',axis =1, inplace = True)"
   ]
  },
  {
   "cell_type": "code",
   "execution_count": 31,
   "id": "8772ced7-857f-4bd2-a34a-35b9cbdf3aa6",
   "metadata": {},
   "outputs": [],
   "source": [
    "x = df.Total_Stops.mode()[0]"
   ]
  },
  {
   "cell_type": "code",
   "execution_count": 32,
   "id": "936b644e-3b66-429b-ac0b-88d034e1f537",
   "metadata": {},
   "outputs": [],
   "source": [
    "df['Total_Stops'] = df.Total_Stops.fillna(x)"
   ]
  },
  {
   "cell_type": "code",
   "execution_count": 33,
   "id": "c5ef1e03-ab15-4606-8caa-ead614cf165e",
   "metadata": {},
   "outputs": [],
   "source": [
    "df['Total_Stops'] = df['Total_Stops'].map({'non-stop': 0, '1 stop': 1, '2 stops': 2, '3 stops': 3, '4 stops': 4})"
   ]
  },
  {
   "cell_type": "code",
   "execution_count": 34,
   "id": "08cba371-1da6-4114-823a-6f9833b9799c",
   "metadata": {},
   "outputs": [],
   "source": [
    "df['Total_Stops']=df.Total_Stops.astype(int)"
   ]
  },
  {
   "cell_type": "code",
   "execution_count": 162,
   "id": "e1073bac-9bd9-45b5-8826-775fafcba73b",
   "metadata": {},
   "outputs": [],
   "source": [
    "df.head();"
   ]
  },
  {
   "cell_type": "code",
   "execution_count": 36,
   "id": "11032e3f-f392-4830-94d2-71d6ef6032be",
   "metadata": {},
   "outputs": [],
   "source": [
    "df['Dur_Hour']=df.Duration.apply(lambda x:x.split(' ')[0].split('h')[0])"
   ]
  },
  {
   "cell_type": "code",
   "execution_count": 73,
   "id": "5babb216-98b9-4a7c-bbdf-83135345191d",
   "metadata": {},
   "outputs": [],
   "source": [
    "df = df[df['Dur_Hour']!='5m']"
   ]
  },
  {
   "cell_type": "code",
   "execution_count": 88,
   "id": "4aab93e6-045f-45e5-9b33-31a600186d15",
   "metadata": {},
   "outputs": [],
   "source": [
    "df['Dur_Hour'] = df.Dur_Hour.astype(int)"
   ]
  },
  {
   "cell_type": "code",
   "execution_count": 124,
   "id": "703e8da7-d999-4778-8d9b-5a477c21bb80",
   "metadata": {},
   "outputs": [],
   "source": [
    "df['Dur_Min'] = df.Duration.apply(lambda x:x.split('m')[0].split()[-1])"
   ]
  },
  {
   "cell_type": "code",
   "execution_count": 136,
   "id": "79d9d551-e603-48f4-8bb3-a4a61fb9c376",
   "metadata": {},
   "outputs": [],
   "source": [
    "df['Dur_Min'] = df.Dur_Min.apply(lambda x: 0 if 'h' in x else x)"
   ]
  },
  {
   "cell_type": "code",
   "execution_count": 146,
   "id": "3a8e4c39-2ef7-46d6-aeec-461f0029446b",
   "metadata": {},
   "outputs": [],
   "source": [
    "df['Dur_Min'] = df['Dur_Min'].astype(int)"
   ]
  },
  {
   "cell_type": "code",
   "execution_count": 150,
   "id": "096cfbaa-51c6-4ae6-8e39-33516442f96b",
   "metadata": {},
   "outputs": [],
   "source": [
    "df.drop('Duration', axis =1, inplace = True)"
   ]
  },
  {
   "cell_type": "markdown",
   "id": "481088b3-de35-4d25-9ab0-2c50fc146c33",
   "metadata": {},
   "source": [
    "5. Categorial text ko numerical value me convert krna h "
   ]
  },
  {
   "cell_type": "code",
   "execution_count": 165,
   "id": "5b0e87b6-197e-4c85-a90a-5ce57f80cd32",
   "metadata": {},
   "outputs": [
    {
     "data": {
      "text/plain": [
       "Index(['Airline', 'Source', 'Destination', 'Total_Stops', 'Additional_Info',\n",
       "       'Price', 'month', 'date', 'year', 'Arrival_Hour', 'Arrival_Min',\n",
       "       'Dep_Hour', 'Dep_Min', 'Dur_Hour', 'Dur_Min'],\n",
       "      dtype='object')"
      ]
     },
     "execution_count": 165,
     "metadata": {},
     "output_type": "execute_result"
    }
   ],
   "source": [
    "df.columns"
   ]
  },
  {
   "cell_type": "markdown",
   "id": "4ee508eb-1e01-4313-8991-0942eac1c5e4",
   "metadata": {},
   "source": [
    "'Airline', 'Source', 'Destination', 'Additional_Info' ye sb categorial text h inko convert krna pdega numerical value me "
   ]
  },
  {
   "cell_type": "code",
   "execution_count": 170,
   "id": "92a9b8df-2220-43a7-83f5-910b22ff4f01",
   "metadata": {},
   "outputs": [],
   "source": [
    "from sklearn.preprocessing import LabelEncoder\n",
    "le = LabelEncoder()"
   ]
  },
  {
   "cell_type": "markdown",
   "id": "d2fb8294-6f1e-4e7d-95d5-44da8462379d",
   "metadata": {},
   "source": [
    "LabelEncoder ko object bnana pdega use krne se phle isiliye le liye h "
   ]
  },
  {
   "cell_type": "code",
   "execution_count": 178,
   "id": "d0bc0453-2100-4b3a-8dc1-f0025ab78214",
   "metadata": {},
   "outputs": [],
   "source": [
    "df['Airline'] = le.fit_transform(df['Airline'])\n",
    "df['Source'] = le.fit_transform(df['Source'])\n",
    "df['Destination'] = le.fit_transform(df['Destination'])\n",
    "df['Additional_Info'] = le.fit_transform(df['Additional_Info'])"
   ]
  },
  {
   "cell_type": "markdown",
   "id": "7f0dc9ad-fd60-4006-bc40-679b89699611",
   "metadata": {},
   "source": [
    "fit_transform()"
   ]
  },
  {
   "cell_type": "markdown",
   "id": "cbc666f4-620a-44a8-8adc-437b00fbc9ee",
   "metadata": {},
   "source": [
    "fit -> ye saare unique data dekhta h aur sb unique ko numerical number de deta h mtlb map kiya\n"
   ]
  },
  {
   "cell_type": "markdown",
   "id": "56ee85fa-fd6a-4e94-9840-c126105e1df7",
   "metadata": {},
   "source": [
    "transform -> wo maped pure data pe apply kr deta h "
   ]
  },
  {
   "cell_type": "code",
   "execution_count": 192,
   "id": "a34be479-fab8-4ebf-8e95-a710594fe7dd",
   "metadata": {},
   "outputs": [
    {
     "data": {
      "text/html": [
       "<div>\n",
       "<style scoped>\n",
       "    .dataframe tbody tr th:only-of-type {\n",
       "        vertical-align: middle;\n",
       "    }\n",
       "\n",
       "    .dataframe tbody tr th {\n",
       "        vertical-align: top;\n",
       "    }\n",
       "\n",
       "    .dataframe thead th {\n",
       "        text-align: right;\n",
       "    }\n",
       "</style>\n",
       "<table border=\"1\" class=\"dataframe\">\n",
       "  <thead>\n",
       "    <tr style=\"text-align: right;\">\n",
       "      <th></th>\n",
       "      <th>Airline</th>\n",
       "      <th>Source</th>\n",
       "      <th>Destination</th>\n",
       "      <th>Total_Stops</th>\n",
       "      <th>Additional_Info</th>\n",
       "      <th>Price</th>\n",
       "      <th>month</th>\n",
       "      <th>date</th>\n",
       "      <th>year</th>\n",
       "      <th>Arrival_Hour</th>\n",
       "      <th>Arrival_Min</th>\n",
       "      <th>Dep_Hour</th>\n",
       "      <th>Dep_Min</th>\n",
       "      <th>Dur_Hour</th>\n",
       "      <th>Dur_Min</th>\n",
       "    </tr>\n",
       "  </thead>\n",
       "  <tbody>\n",
       "    <tr>\n",
       "      <th>0</th>\n",
       "      <td>0</td>\n",
       "      <td>0</td>\n",
       "      <td>5</td>\n",
       "      <td>0</td>\n",
       "      <td>8</td>\n",
       "      <td>10715.0</td>\n",
       "      <td>3</td>\n",
       "      <td>1</td>\n",
       "      <td>2019</td>\n",
       "      <td>8</td>\n",
       "      <td>40</td>\n",
       "      <td>8</td>\n",
       "      <td>40</td>\n",
       "      <td>2</td>\n",
       "      <td>50</td>\n",
       "    </tr>\n",
       "    <tr>\n",
       "      <th>1</th>\n",
       "      <td>0</td>\n",
       "      <td>0</td>\n",
       "      <td>5</td>\n",
       "      <td>0</td>\n",
       "      <td>9</td>\n",
       "      <td>10873.0</td>\n",
       "      <td>3</td>\n",
       "      <td>1</td>\n",
       "      <td>2019</td>\n",
       "      <td>2</td>\n",
       "      <td>10</td>\n",
       "      <td>2</td>\n",
       "      <td>10</td>\n",
       "      <td>2</td>\n",
       "      <td>45</td>\n",
       "    </tr>\n",
       "    <tr>\n",
       "      <th>2</th>\n",
       "      <td>0</td>\n",
       "      <td>0</td>\n",
       "      <td>5</td>\n",
       "      <td>0</td>\n",
       "      <td>8</td>\n",
       "      <td>7074.0</td>\n",
       "      <td>3</td>\n",
       "      <td>3</td>\n",
       "      <td>2019</td>\n",
       "      <td>8</td>\n",
       "      <td>40</td>\n",
       "      <td>8</td>\n",
       "      <td>40</td>\n",
       "      <td>2</td>\n",
       "      <td>50</td>\n",
       "    </tr>\n",
       "    <tr>\n",
       "      <th>3</th>\n",
       "      <td>0</td>\n",
       "      <td>0</td>\n",
       "      <td>5</td>\n",
       "      <td>0</td>\n",
       "      <td>8</td>\n",
       "      <td>7652.0</td>\n",
       "      <td>3</td>\n",
       "      <td>3</td>\n",
       "      <td>2019</td>\n",
       "      <td>8</td>\n",
       "      <td>40</td>\n",
       "      <td>8</td>\n",
       "      <td>40</td>\n",
       "      <td>2</td>\n",
       "      <td>50</td>\n",
       "    </tr>\n",
       "    <tr>\n",
       "      <th>4</th>\n",
       "      <td>0</td>\n",
       "      <td>0</td>\n",
       "      <td>5</td>\n",
       "      <td>0</td>\n",
       "      <td>8</td>\n",
       "      <td>6135.0</td>\n",
       "      <td>3</td>\n",
       "      <td>3</td>\n",
       "      <td>2019</td>\n",
       "      <td>2</td>\n",
       "      <td>10</td>\n",
       "      <td>2</td>\n",
       "      <td>10</td>\n",
       "      <td>2</td>\n",
       "      <td>45</td>\n",
       "    </tr>\n",
       "  </tbody>\n",
       "</table>\n",
       "</div>"
      ],
      "text/plain": [
       "   Airline  Source  Destination  Total_Stops  Additional_Info    Price  month  \\\n",
       "0        0       0            5            0                8  10715.0      3   \n",
       "1        0       0            5            0                9  10873.0      3   \n",
       "2        0       0            5            0                8   7074.0      3   \n",
       "3        0       0            5            0                8   7652.0      3   \n",
       "4        0       0            5            0                8   6135.0      3   \n",
       "\n",
       "   date  year  Arrival_Hour  Arrival_Min  Dep_Hour  Dep_Min  Dur_Hour  Dur_Min  \n",
       "0     1  2019             8           40         8       40         2       50  \n",
       "1     1  2019             2           10         2       10         2       45  \n",
       "2     3  2019             8           40         8       40         2       50  \n",
       "3     3  2019             8           40         8       40         2       50  \n",
       "4     3  2019             2           10         2       10         2       45  "
      ]
     },
     "execution_count": 192,
     "metadata": {},
     "output_type": "execute_result"
    }
   ],
   "source": [
    "df.head()"
   ]
  },
  {
   "cell_type": "code",
   "execution_count": null,
   "id": "6766fe41-2c2e-426a-bcfe-f552f3f9bdd7",
   "metadata": {},
   "outputs": [],
   "source": []
  }
 ],
 "metadata": {
  "kernelspec": {
   "display_name": "Python [conda env:base] *",
   "language": "python",
   "name": "conda-base-py"
  },
  "language_info": {
   "codemirror_mode": {
    "name": "ipython",
    "version": 3
   },
   "file_extension": ".py",
   "mimetype": "text/x-python",
   "name": "python",
   "nbconvert_exporter": "python",
   "pygments_lexer": "ipython3",
   "version": "3.12.7"
  }
 },
 "nbformat": 4,
 "nbformat_minor": 5
}
